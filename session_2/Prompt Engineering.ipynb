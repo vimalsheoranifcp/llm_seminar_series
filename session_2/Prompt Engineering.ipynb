{
 "cells": [
  {
   "cell_type": "markdown",
   "id": "0d86695c-36b5-4d34-9574-854a17788f2e",
   "metadata": {},
   "source": [
    "# Introduction\n",
    "\n",
    "This notebook contains code and explanations for various prompt engineering techniques. It also implicitly acts as a demo for LangChain."
   ]
  },
  {
   "cell_type": "markdown",
   "id": "cbc8e040-6aca-4616-8ace-24a2c1c1d307",
   "metadata": {},
   "source": [
    "# Setup"
   ]
  },
  {
   "cell_type": "code",
   "execution_count": 7,
   "id": "035916bc-6445-4c03-92fe-984b18d97bd6",
   "metadata": {},
   "outputs": [
    {
     "data": {
      "text/plain": [
       "True"
      ]
     },
     "execution_count": 7,
     "metadata": {},
     "output_type": "execute_result"
    }
   ],
   "source": [
    "import os\n",
    "import pandas as pd\n",
    "import numpy as np\n",
    "import matplotlib.pyplot as plt\n",
    "from dotenv import load_dotenv\n",
    "\n",
    "load_dotenv(\"/home/vimal/keys/.env\")"
   ]
  },
  {
   "cell_type": "markdown",
   "id": "4572f7ff-4891-4462-a73a-c381393a8a1b",
   "metadata": {},
   "source": [
    "# The Data\n",
    "The dataset we will be using contains user reviews for games Steam. We also have a set of data which quantifies the rating of a game on a scale of 1-9. Combining these two datasets we shall be solving a small set of problems."
   ]
  },
  {
   "cell_type": "code",
   "execution_count": 2,
   "id": "7b0fc6eb-5f42-41e2-afd0-94c7b44e6395",
   "metadata": {},
   "outputs": [],
   "source": [
    "DATA_PATH = \"data/\"\n",
    "reviews = pd.read_csv(os.path.join(DATA_PATH, \"reviews.csv\"))\n",
    "ratings = pd.read_csv(os.path.join(DATA_PATH, \"ratings.csv\"))"
   ]
  },
  {
   "cell_type": "code",
   "execution_count": 3,
   "id": "297288bb-0b86-4452-bc79-bff73b836b13",
   "metadata": {},
   "outputs": [
    {
     "data": {
      "text/html": [
       "<div>\n",
       "<style scoped>\n",
       "    .dataframe tbody tr th:only-of-type {\n",
       "        vertical-align: middle;\n",
       "    }\n",
       "\n",
       "    .dataframe tbody tr th {\n",
       "        vertical-align: top;\n",
       "    }\n",
       "\n",
       "    .dataframe thead th {\n",
       "        text-align: right;\n",
       "    }\n",
       "</style>\n",
       "<table border=\"1\" class=\"dataframe\">\n",
       "  <thead>\n",
       "    <tr style=\"text-align: right;\">\n",
       "      <th></th>\n",
       "      <th>app_id</th>\n",
       "      <th>app_name</th>\n",
       "      <th>review_text</th>\n",
       "      <th>review_score</th>\n",
       "      <th>review_votes</th>\n",
       "      <th>review_id</th>\n",
       "    </tr>\n",
       "  </thead>\n",
       "  <tbody>\n",
       "    <tr>\n",
       "      <th>0</th>\n",
       "      <td>105600</td>\n",
       "      <td>Terraria</td>\n",
       "      <td>You can be a werewolf riding a unicorn while s...</td>\n",
       "      <td>1</td>\n",
       "      <td>0</td>\n",
       "      <td>0</td>\n",
       "    </tr>\n",
       "    <tr>\n",
       "      <th>1</th>\n",
       "      <td>105600</td>\n",
       "      <td>Terraria</td>\n",
       "      <td>You should by 8 copies of this game and go aro...</td>\n",
       "      <td>1</td>\n",
       "      <td>0</td>\n",
       "      <td>1</td>\n",
       "    </tr>\n",
       "    <tr>\n",
       "      <th>2</th>\n",
       "      <td>105600</td>\n",
       "      <td>Terraria</td>\n",
       "      <td>Introduction</td>\n",
       "      <td>1</td>\n",
       "      <td>1</td>\n",
       "      <td>2</td>\n",
       "    </tr>\n",
       "    <tr>\n",
       "      <th>3</th>\n",
       "      <td>105600</td>\n",
       "      <td>Terraria</td>\n",
       "      <td>If you have friends, this is a great game to p...</td>\n",
       "      <td>1</td>\n",
       "      <td>1</td>\n",
       "      <td>3</td>\n",
       "    </tr>\n",
       "    <tr>\n",
       "      <th>4</th>\n",
       "      <td>105600</td>\n",
       "      <td>Terraria</td>\n",
       "      <td>A Generic Comparison of Terraria versus Minecr...</td>\n",
       "      <td>1</td>\n",
       "      <td>0</td>\n",
       "      <td>4</td>\n",
       "    </tr>\n",
       "  </tbody>\n",
       "</table>\n",
       "</div>"
      ],
      "text/plain": [
       "   app_id  app_name                                        review_text  \\\n",
       "0  105600  Terraria  You can be a werewolf riding a unicorn while s...   \n",
       "1  105600  Terraria  You should by 8 copies of this game and go aro...   \n",
       "2  105600  Terraria                                       Introduction   \n",
       "3  105600  Terraria  If you have friends, this is a great game to p...   \n",
       "4  105600  Terraria  A Generic Comparison of Terraria versus Minecr...   \n",
       "\n",
       "   review_score  review_votes  review_id  \n",
       "0             1             0          0  \n",
       "1             1             0          1  \n",
       "2             1             1          2  \n",
       "3             1             1          3  \n",
       "4             1             0          4  "
      ]
     },
     "execution_count": 3,
     "metadata": {},
     "output_type": "execute_result"
    }
   ],
   "source": [
    "reviews.head(5)"
   ]
  },
  {
   "cell_type": "code",
   "execution_count": 4,
   "id": "67739b6d-b731-4acc-b2c0-01efba8a066f",
   "metadata": {},
   "outputs": [
    {
     "data": {
      "text/html": [
       "<div>\n",
       "<style scoped>\n",
       "    .dataframe tbody tr th:only-of-type {\n",
       "        vertical-align: middle;\n",
       "    }\n",
       "\n",
       "    .dataframe tbody tr th {\n",
       "        vertical-align: top;\n",
       "    }\n",
       "\n",
       "    .dataframe thead th {\n",
       "        text-align: right;\n",
       "    }\n",
       "</style>\n",
       "<table border=\"1\" class=\"dataframe\">\n",
       "  <thead>\n",
       "    <tr style=\"text-align: right;\">\n",
       "      <th></th>\n",
       "      <th>Unnamed: 0</th>\n",
       "      <th>id</th>\n",
       "      <th>name</th>\n",
       "      <th>overall_review</th>\n",
       "      <th>overall_score</th>\n",
       "    </tr>\n",
       "  </thead>\n",
       "  <tbody>\n",
       "    <tr>\n",
       "      <th>0</th>\n",
       "      <td>0</td>\n",
       "      <td>105600</td>\n",
       "      <td>Terraria</td>\n",
       "      <td>Overwhelmingly Positive</td>\n",
       "      <td>9</td>\n",
       "    </tr>\n",
       "    <tr>\n",
       "      <th>1</th>\n",
       "      <td>1</td>\n",
       "      <td>570</td>\n",
       "      <td>Dota 2</td>\n",
       "      <td>Very Positive</td>\n",
       "      <td>8</td>\n",
       "    </tr>\n",
       "    <tr>\n",
       "      <th>2</th>\n",
       "      <td>2</td>\n",
       "      <td>252950</td>\n",
       "      <td>Rocket League</td>\n",
       "      <td>Very Positive</td>\n",
       "      <td>8</td>\n",
       "    </tr>\n",
       "    <tr>\n",
       "      <th>3</th>\n",
       "      <td>3</td>\n",
       "      <td>391540</td>\n",
       "      <td>Undertale</td>\n",
       "      <td>Overwhelmingly Positive</td>\n",
       "      <td>9</td>\n",
       "    </tr>\n",
       "    <tr>\n",
       "      <th>4</th>\n",
       "      <td>4</td>\n",
       "      <td>252490</td>\n",
       "      <td>Rust</td>\n",
       "      <td>Mostly Positive</td>\n",
       "      <td>6</td>\n",
       "    </tr>\n",
       "  </tbody>\n",
       "</table>\n",
       "</div>"
      ],
      "text/plain": [
       "   Unnamed: 0      id           name           overall_review  overall_score\n",
       "0           0  105600       Terraria  Overwhelmingly Positive              9\n",
       "1           1     570         Dota 2            Very Positive              8\n",
       "2           2  252950  Rocket League            Very Positive              8\n",
       "3           3  391540      Undertale  Overwhelmingly Positive              9\n",
       "4           4  252490           Rust          Mostly Positive              6"
      ]
     },
     "execution_count": 4,
     "metadata": {},
     "output_type": "execute_result"
    }
   ],
   "source": [
    "ratings.head(5)"
   ]
  },
  {
   "cell_type": "markdown",
   "id": "b1c2d46c-b037-4858-93fb-36828b94c4fb",
   "metadata": {},
   "source": [
    "# Stats\n",
    "## Number of Reviews Per Game"
   ]
  },
  {
   "cell_type": "code",
   "execution_count": 5,
   "id": "fb71541d-325d-43a4-a503-dd8b8140790d",
   "metadata": {},
   "outputs": [
    {
     "data": {
      "image/png": "[encoded data removed]",
      "text/plain": [
       "<Figure size 1200x600 with 1 Axes>"
      ]
     },
     "metadata": {},
     "output_type": "display_data"
    }
   ],
   "source": [
    "reviews_per_game = reviews[['app_name', 'review_text']].groupby('app_name').count().reset_index().sort_values('review_text', ascending=False)\n",
    "fig, axs = plt.subplots(figsize=(12, 6))\n",
    "axs.set_title(\"Number of Reviews Per Game\")\n",
    "axs.set_xlabel(\"Game Name\")\n",
    "axs.set_ylabel(\"Number of Reviews\")\n",
    "axs.bar(\n",
    "    reviews_per_game['app_name'],\n",
    "    reviews_per_game['review_text']\n",
    ")\n",
    "axs.tick_params('x', labelrotation=90)"
   ]
  },
  {
   "cell_type": "markdown",
   "id": "5cd320a7-39da-4160-9754-3b600c24d238",
   "metadata": {},
   "source": [
    "# Ratings of Games"
   ]
  },
  {
   "cell_type": "code",
   "execution_count": 6,
   "id": "378bb5b1-524b-483e-bf56-d55fedc416ca",
   "metadata": {},
   "outputs": [
    {
     "data": {
      "text/html": [
       "<div>\n",
       "<style scoped>\n",
       "    .dataframe tbody tr th:only-of-type {\n",
       "        vertical-align: middle;\n",
       "    }\n",
       "\n",
       "    .dataframe tbody tr th {\n",
       "        vertical-align: top;\n",
       "    }\n",
       "\n",
       "    .dataframe thead th {\n",
       "        text-align: right;\n",
       "    }\n",
       "</style>\n",
       "<table border=\"1\" class=\"dataframe\">\n",
       "  <thead>\n",
       "    <tr style=\"text-align: right;\">\n",
       "      <th></th>\n",
       "      <th>name</th>\n",
       "      <th>overall_review</th>\n",
       "      <th>overall_score</th>\n",
       "    </tr>\n",
       "  </thead>\n",
       "  <tbody>\n",
       "    <tr>\n",
       "      <th>0</th>\n",
       "      <td>Terraria</td>\n",
       "      <td>Overwhelmingly Positive</td>\n",
       "      <td>9</td>\n",
       "    </tr>\n",
       "    <tr>\n",
       "      <th>3</th>\n",
       "      <td>Undertale</td>\n",
       "      <td>Overwhelmingly Positive</td>\n",
       "      <td>9</td>\n",
       "    </tr>\n",
       "    <tr>\n",
       "      <th>7</th>\n",
       "      <td>Portal 2</td>\n",
       "      <td>Overwhelmingly Positive</td>\n",
       "      <td>9</td>\n",
       "    </tr>\n",
       "    <tr>\n",
       "      <th>5</th>\n",
       "      <td>Left 4 Dead 2</td>\n",
       "      <td>Overwhelmingly Positive</td>\n",
       "      <td>9</td>\n",
       "    </tr>\n",
       "    <tr>\n",
       "      <th>1</th>\n",
       "      <td>Dota 2</td>\n",
       "      <td>Very Positive</td>\n",
       "      <td>8</td>\n",
       "    </tr>\n",
       "    <tr>\n",
       "      <th>2</th>\n",
       "      <td>Rocket League</td>\n",
       "      <td>Very Positive</td>\n",
       "      <td>8</td>\n",
       "    </tr>\n",
       "    <tr>\n",
       "      <th>6</th>\n",
       "      <td>Warframe</td>\n",
       "      <td>Very Positive</td>\n",
       "      <td>8</td>\n",
       "    </tr>\n",
       "    <tr>\n",
       "      <th>9</th>\n",
       "      <td>Starbound</td>\n",
       "      <td>Positive</td>\n",
       "      <td>7</td>\n",
       "    </tr>\n",
       "    <tr>\n",
       "      <th>4</th>\n",
       "      <td>Rust</td>\n",
       "      <td>Mostly Positive</td>\n",
       "      <td>6</td>\n",
       "    </tr>\n",
       "    <tr>\n",
       "      <th>8</th>\n",
       "      <td>PAYDAY 2</td>\n",
       "      <td>Mixed</td>\n",
       "      <td>5</td>\n",
       "    </tr>\n",
       "    <tr>\n",
       "      <th>11</th>\n",
       "      <td>Nether</td>\n",
       "      <td>Mixed</td>\n",
       "      <td>5</td>\n",
       "    </tr>\n",
       "    <tr>\n",
       "      <th>15</th>\n",
       "      <td>ARK: Survival Evolved</td>\n",
       "      <td>Mixed</td>\n",
       "      <td>5</td>\n",
       "    </tr>\n",
       "    <tr>\n",
       "      <th>13</th>\n",
       "      <td>X Rebirth</td>\n",
       "      <td>Mostly Negative</td>\n",
       "      <td>4</td>\n",
       "    </tr>\n",
       "    <tr>\n",
       "      <th>10</th>\n",
       "      <td>Towns</td>\n",
       "      <td>Mostly Negative</td>\n",
       "      <td>4</td>\n",
       "    </tr>\n",
       "    <tr>\n",
       "      <th>17</th>\n",
       "      <td>Godus</td>\n",
       "      <td>Mostly Negative</td>\n",
       "      <td>4</td>\n",
       "    </tr>\n",
       "    <tr>\n",
       "      <th>16</th>\n",
       "      <td>Fallout 4</td>\n",
       "      <td>Mostly Negative</td>\n",
       "      <td>4</td>\n",
       "    </tr>\n",
       "    <tr>\n",
       "      <th>12</th>\n",
       "      <td>Mafia III: Definitive Edition</td>\n",
       "      <td>Very Negative</td>\n",
       "      <td>2</td>\n",
       "    </tr>\n",
       "    <tr>\n",
       "      <th>14</th>\n",
       "      <td>Spacebase DF-9</td>\n",
       "      <td>Overwhelmingly Negative</td>\n",
       "      <td>1</td>\n",
       "    </tr>\n",
       "  </tbody>\n",
       "</table>\n",
       "</div>"
      ],
      "text/plain": [
       "                             name           overall_review  overall_score\n",
       "0                        Terraria  Overwhelmingly Positive              9\n",
       "3                       Undertale  Overwhelmingly Positive              9\n",
       "7                        Portal 2  Overwhelmingly Positive              9\n",
       "5                   Left 4 Dead 2  Overwhelmingly Positive              9\n",
       "1                          Dota 2            Very Positive              8\n",
       "2                   Rocket League            Very Positive              8\n",
       "6                        Warframe            Very Positive              8\n",
       "9                       Starbound                 Positive              7\n",
       "4                            Rust          Mostly Positive              6\n",
       "8                        PAYDAY 2                    Mixed              5\n",
       "11                         Nether                    Mixed              5\n",
       "15          ARK: Survival Evolved                    Mixed              5\n",
       "13                      X Rebirth          Mostly Negative              4\n",
       "10                          Towns          Mostly Negative              4\n",
       "17                          Godus          Mostly Negative              4\n",
       "16                      Fallout 4          Mostly Negative              4\n",
       "12  Mafia III: Definitive Edition            Very Negative              2\n",
       "14                 Spacebase DF-9  Overwhelmingly Negative              1"
      ]
     },
     "execution_count": 6,
     "metadata": {},
     "output_type": "execute_result"
    }
   ],
   "source": [
    "ratings[['name', 'overall_review', 'overall_score']].sort_values('overall_score', ascending=False)"
   ]
  },
  {
   "cell_type": "markdown",
   "id": "2bd50d36-c08a-40a1-8396-b1e457d06d78",
   "metadata": {},
   "source": [
    "# Problem 1 - Assign a Rating to a Game Based on Its Reviews"
   ]
  },
  {
   "cell_type": "markdown",
   "id": "53838cf5-c6e3-43fb-8703-33b27ac2de5d",
   "metadata": {},
   "source": [
    "## Zero Shot Prompting Approach\n",
    "\n",
    "**Idea**: I will give the LLM a user review and I will ask it to provide a rating for that review based on the scoring system. This will be done for some of the reviews of a given game and then their scores can be averaged out to find out the final rating."
   ]
  },
  {
   "cell_type": "code",
   "execution_count": 9,
   "id": "a09ebe56-f53e-4aef-b3de-6541e8cceb34",
   "metadata": {},
   "outputs": [],
   "source": [
    "import time\n",
    "from langchain_core.messages import HumanMessage, SystemMessage\n",
    "from langchain_google_genai import ChatGoogleGenerativeAI, HarmBlockThreshold, HarmCategory \n",
    "\n",
    "os.environ['GOOGLE_API_KEY'] = os.environ['GOOGLE_GENAI_API_KEY']\n",
    "llm = ChatGoogleGenerativeAI(model=\"gemini-pro\")\n",
    "result = llm.invoke(\"Say hello!\")"
   ]
  },
  {
   "cell_type": "code",
   "execution_count": 11,
   "id": "0b0af709-0406-4480-a896-63774680f8d6",
   "metadata": {},
   "outputs": [],
   "source": [
    "PROMPT = \"\"\"\n",
    "ROLE:\n",
    "-----\n",
    "You are an expert Quality Controller in the Video Game Industry. \n",
    "You are proficient in analysing user reviews and quantifying the rating of a game based on the review.\n",
    "\n",
    "TASK:\n",
    "-----\n",
    "You will be provided a user review, for that user review you will provide a rating from 1 - 9, based on the RATING SYSTEM.\n",
    "\n",
    "RATING SYSTEM:\n",
    "--------------\n",
    "9 - Overwhelmingly Positive\n",
    "8 - Very Positive\n",
    "7 - Positive\n",
    "6 - Mostly Positive\n",
    "5 - Mixed\n",
    "4 - Mostly Negative\n",
    "3 - Negative\n",
    "2 - Very Negative\n",
    "1 - Overwhelmingly Negative\n",
    "\n",
    "INPUT FORMAT:\n",
    "-------------\n",
    "Input is provided in the following format <REVIEW ID>|<REVIEW>.\n",
    "\n",
    "OUTPUT:\n",
    "-------\n",
    "For each <REVIEW> present in the INPUT, \n",
    "provide the output as <REVIEW ID> (ID Of the Review from the Input) | <RATING> (Rating of the Review from the Rating system)\n",
    "\n",
    "INPUT:\n",
    "------\n",
    "REVIEW ID|REVIEW\n",
    "{}\n",
    "\"\"\"\n",
    "\n",
    "reviews_to_rate = reviews[reviews['app_name'] == 'Nether'].sample(1000)\n",
    "\n",
    "safety_settings={\n",
    "    HarmCategory.HARM_CATEGORY_DANGEROUS_CONTENT: HarmBlockThreshold.BLOCK_NONE,\n",
    "    HarmCategory.HARM_CATEGORY_HARASSMENT: HarmBlockThreshold.BLOCK_NONE,\n",
    "    HarmCategory.HARM_CATEGORY_HATE_SPEECH: HarmBlockThreshold.BLOCK_NONE,\n",
    "    HarmCategory.HARM_CATEGORY_SEXUALLY_EXPLICIT: HarmBlockThreshold.BLOCK_NONE\n",
    "}\n",
    "\n",
    "llm = ChatGoogleGenerativeAI(model=\"gemini-pro\", safety_settings=safety_settings)"
   ]
  },
  {
   "cell_type": "code",
   "execution_count": 17,
   "id": "658741aa-ba88-46eb-ac61-61177e44597c",
   "metadata": {},
   "outputs": [],
   "source": [
    "BATCH_SIZE = 30\n",
    "ratings = []\n",
    "\n",
    "for i in range(0, reviews_to_rate.shape[0] - BATCH_SIZE):\n",
    "    review_id = reviews_to_rate.iloc[i:i+BATCH_SIZE]['review_id'].tolist()\n",
    "    review_text = reviews_to_rate.iloc[i:i+BATCH_SIZE]['review_text'].tolist()\n",
    "    user_input = \"\\n\".join([f\"{_id}|{txt}\" for _id, txt in zip(review_id, review_text)])\n",
    "    prediction = llm.invoke(PROMPT.format(user_input))\n",
    "    ratings.append(prediction.content)\n",
    "    time.sleep(1)"
   ]
  },
  {
   "cell_type": "code",
   "execution_count": 23,
   "id": "d7708dab-4202-43ab-b851-35467bf6b3ec",
   "metadata": {},
   "outputs": [],
   "source": [
    "predicted_ratings = []\n",
    "for r in ratings:\n",
    "    individual_ratings = r.split(\"\\n\")\n",
    "    for i in individual_ratings:\n",
    "        try:\n",
    "            predicted_ratings.append(\n",
    "                {\n",
    "                    'review_id': int(i.split(\"|\")[0]),\n",
    "                    'rating': int(i.split(\"|\")[1])\n",
    "                }\n",
    "            )\n",
    "        except ValueError as e:\n",
    "            continue"
   ]
  },
  {
   "cell_type": "code",
   "execution_count": 26,
   "id": "1f267519-68ce-4782-9c66-a5bbb02aeb2c",
   "metadata": {},
   "outputs": [
    {
     "data": {
      "text/plain": [
       "4.018130699635944"
      ]
     },
     "execution_count": 26,
     "metadata": {},
     "output_type": "execute_result"
    }
   ],
   "source": [
    "pd.DataFrame(predicted_ratings)['rating'].mean()"
   ]
  },
  {
   "cell_type": "code",
   "execution_count": null,
   "id": "14ffc212-d23e-4b6e-8b84-238a2ad3221a",
   "metadata": {},
   "outputs": [],
   "source": []
  }
 ],
 "metadata": {
  "kernelspec": {
   "display_name": "llm_seminar",
   "language": "python",
   "name": "llm_seminar"
  },
  "language_info": {
   "codemirror_mode": {
    "name": "ipython",
    "version": 3
   },
   "file_extension": ".py",
   "mimetype": "text/x-python",
   "name": "python",
   "nbconvert_exporter": "python",
   "pygments_lexer": "ipython3",
   "version": "3.10.12"
  }
 },
 "nbformat": 4,
 "nbformat_minor": 5
}
